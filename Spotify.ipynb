{
  "nbformat": 4,
  "nbformat_minor": 0,
  "metadata": {
    "colab": {
      "name": "Spotify.ipynb",
      "provenance": [],
      "collapsed_sections": []
    },
    "kernelspec": {
      "name": "python3",
      "display_name": "Python 3"
    }
  },
  "cells": [
    {
      "cell_type": "markdown",
      "metadata": {
        "id": "gjccIXYm2sx2"
      },
      "source": [
        "## *Group Members -*\n",
        "\n",
        "Niyati (18/94062)\n",
        "\n",
        "Chaitanya Raj Dixit (18/94067)\n",
        "\n",
        "Somya Chandra (18/94027)\n",
        "\n",
        "Jagriti Verma (18/94058)"
      ]
    },
    {
      "cell_type": "markdown",
      "metadata": {
        "id": "KUIKummU3KU_"
      },
      "source": [
        "Problem Statement-\n",
        "\n",
        "Classifying **genre** into classes based on **danceability**\n"
      ]
    },
    {
      "cell_type": "markdown",
      "metadata": {
        "id": "RT8saMLx4S4V"
      },
      "source": [
        "Data Set :\n",
        "\n",
        "Source - https://www.kaggle.com/yamaerenay/spotify-dataset-19212020-160k-tracks"
      ]
    },
    {
      "cell_type": "code",
      "metadata": {
        "id": "eytqudAg4iSa",
        "colab": {
          "base_uri": "https://localhost:8080/"
        },
        "outputId": "154f65d6-a110-4865-e7c4-2e9a044a02b6"
      },
      "source": [
        "import numpy as np  #importing numpy for numpy_array\n",
        "import pandas as pd  #Importing Pandas for reading CSV files\n",
        "import matplotlib.pyplot as plt  #importing matplotlib for plotting graphs \n",
        "import seaborn as sns  #importing seaborn for plotting heatmap\n",
        "from sklearn.model_selection import train_test_split  #importing sklearn for regression method\n",
        "from sklearn import preprocessing\n",
        "from sklearn.tree import DecisionTreeClassifier,export_text,export_graphviz\n",
        "import pydotplus\n",
        "from IPython.display import Image\n",
        "from sklearn.metrics import accuracy_score, confusion_matrix\n",
        "!pip install mlxtend --upgrade --no-deps\n",
        "from mlxtend.plotting import plot_confusion_matrix\n",
        "from sklearn.metrics import classification_report\n",
        "import seaborn as sns\n",
        "from sklearn.model_selection import cross_val_score\n",
        "from sklearn.naive_bayes import GaussianNB\n",
        "from sklearn.neighbors import KNeighborsClassifier\n",
        "%matplotlib inline"
      ],
      "execution_count": 103,
      "outputs": [
        {
          "output_type": "stream",
          "text": [
            "Requirement already up-to-date: mlxtend in /usr/local/lib/python3.7/dist-packages (0.18.0)\n"
          ],
          "name": "stdout"
        }
      ]
    },
    {
      "cell_type": "markdown",
      "metadata": {
        "id": "M-Qx2_Ew45Rz"
      },
      "source": [
        "Description :\n",
        "\n"
      ]
    },
    {
      "cell_type": "code",
      "metadata": {
        "colab": {
          "base_uri": "https://localhost:8080/"
        },
        "id": "GXUgcf8o5BRB",
        "outputId": "41faaaa1-630b-4e3c-9930-4c273d816dc3"
      },
      "source": [
        "from google.colab import drive\n",
        "drive.mount('/content/gdrive') \n",
        "df = pd.read_csv('/content/gdrive/MyDrive/data_by_genres.csv')\n",
        "df=df.dropna()\n",
        "df=df.drop_duplicates()\n"
      ],
      "execution_count": 104,
      "outputs": [
        {
          "output_type": "stream",
          "text": [
            "Drive already mounted at /content/gdrive; to attempt to forcibly remount, call drive.mount(\"/content/gdrive\", force_remount=True).\n"
          ],
          "name": "stdout"
        }
      ]
    },
    {
      "cell_type": "code",
      "metadata": {
        "colab": {
          "base_uri": "https://localhost:8080/",
          "height": 195
        },
        "id": "GUv2-mUs7_UF",
        "outputId": "413378b5-821f-423c-b93b-488d3c693d18"
      },
      "source": [
        "df.head()"
      ],
      "execution_count": 105,
      "outputs": [
        {
          "output_type": "execute_result",
          "data": {
            "text/html": [
              "<div>\n",
              "<style scoped>\n",
              "    .dataframe tbody tr th:only-of-type {\n",
              "        vertical-align: middle;\n",
              "    }\n",
              "\n",
              "    .dataframe tbody tr th {\n",
              "        vertical-align: top;\n",
              "    }\n",
              "\n",
              "    .dataframe thead th {\n",
              "        text-align: right;\n",
              "    }\n",
              "</style>\n",
              "<table border=\"1\" class=\"dataframe\">\n",
              "  <thead>\n",
              "    <tr style=\"text-align: right;\">\n",
              "      <th></th>\n",
              "      <th>genres</th>\n",
              "      <th>acousticness</th>\n",
              "      <th>danceability</th>\n",
              "      <th>duration_ms</th>\n",
              "      <th>energy</th>\n",
              "      <th>instrumentalness</th>\n",
              "      <th>liveness</th>\n",
              "      <th>loudness</th>\n",
              "      <th>speechiness</th>\n",
              "      <th>tempo</th>\n",
              "      <th>valence</th>\n",
              "      <th>popularity</th>\n",
              "      <th>key</th>\n",
              "      <th>mode</th>\n",
              "    </tr>\n",
              "  </thead>\n",
              "  <tbody>\n",
              "    <tr>\n",
              "      <th>0</th>\n",
              "      <td>21st century classical</td>\n",
              "      <td>0.754600</td>\n",
              "      <td>0.284100</td>\n",
              "      <td>3.525932e+05</td>\n",
              "      <td>0.159580</td>\n",
              "      <td>0.484374</td>\n",
              "      <td>0.168580</td>\n",
              "      <td>-22.153400</td>\n",
              "      <td>0.062060</td>\n",
              "      <td>91.351000</td>\n",
              "      <td>0.143380</td>\n",
              "      <td>6.600000</td>\n",
              "      <td>4</td>\n",
              "      <td>1</td>\n",
              "    </tr>\n",
              "    <tr>\n",
              "      <th>1</th>\n",
              "      <td>432hz</td>\n",
              "      <td>0.485515</td>\n",
              "      <td>0.312000</td>\n",
              "      <td>1.047430e+06</td>\n",
              "      <td>0.391678</td>\n",
              "      <td>0.477250</td>\n",
              "      <td>0.265940</td>\n",
              "      <td>-18.131267</td>\n",
              "      <td>0.071717</td>\n",
              "      <td>118.900933</td>\n",
              "      <td>0.236483</td>\n",
              "      <td>41.200000</td>\n",
              "      <td>11</td>\n",
              "      <td>1</td>\n",
              "    </tr>\n",
              "    <tr>\n",
              "      <th>2</th>\n",
              "      <td>8-bit</td>\n",
              "      <td>0.028900</td>\n",
              "      <td>0.673000</td>\n",
              "      <td>1.334540e+05</td>\n",
              "      <td>0.950000</td>\n",
              "      <td>0.630000</td>\n",
              "      <td>0.069000</td>\n",
              "      <td>-7.899000</td>\n",
              "      <td>0.292000</td>\n",
              "      <td>192.816000</td>\n",
              "      <td>0.997000</td>\n",
              "      <td>0.000000</td>\n",
              "      <td>5</td>\n",
              "      <td>1</td>\n",
              "    </tr>\n",
              "    <tr>\n",
              "      <th>3</th>\n",
              "      <td>a cappella</td>\n",
              "      <td>0.694276</td>\n",
              "      <td>0.516172</td>\n",
              "      <td>2.018391e+05</td>\n",
              "      <td>0.330533</td>\n",
              "      <td>0.036080</td>\n",
              "      <td>0.222983</td>\n",
              "      <td>-12.656547</td>\n",
              "      <td>0.083627</td>\n",
              "      <td>105.506031</td>\n",
              "      <td>0.454077</td>\n",
              "      <td>39.086248</td>\n",
              "      <td>7</td>\n",
              "      <td>1</td>\n",
              "    </tr>\n",
              "    <tr>\n",
              "      <th>4</th>\n",
              "      <td>abstract</td>\n",
              "      <td>0.411262</td>\n",
              "      <td>0.473600</td>\n",
              "      <td>3.660984e+05</td>\n",
              "      <td>0.479400</td>\n",
              "      <td>0.841400</td>\n",
              "      <td>0.097160</td>\n",
              "      <td>-15.799400</td>\n",
              "      <td>0.045300</td>\n",
              "      <td>142.495400</td>\n",
              "      <td>0.274260</td>\n",
              "      <td>43.800000</td>\n",
              "      <td>5</td>\n",
              "      <td>1</td>\n",
              "    </tr>\n",
              "  </tbody>\n",
              "</table>\n",
              "</div>"
            ],
            "text/plain": [
              "                   genres  acousticness  danceability  ...  popularity  key  mode\n",
              "0  21st century classical      0.754600      0.284100  ...    6.600000    4     1\n",
              "1                   432hz      0.485515      0.312000  ...   41.200000   11     1\n",
              "2                   8-bit      0.028900      0.673000  ...    0.000000    5     1\n",
              "3              a cappella      0.694276      0.516172  ...   39.086248    7     1\n",
              "4                abstract      0.411262      0.473600  ...   43.800000    5     1\n",
              "\n",
              "[5 rows x 14 columns]"
            ]
          },
          "metadata": {
            "tags": []
          },
          "execution_count": 105
        }
      ]
    },
    {
      "cell_type": "code",
      "metadata": {
        "colab": {
          "base_uri": "https://localhost:8080/"
        },
        "id": "qey5wloJYiaE",
        "outputId": "fcb55a9d-38d7-4142-8e1f-42ccd83ba9db"
      },
      "source": [
        "print(df.keys())"
      ],
      "execution_count": 106,
      "outputs": [
        {
          "output_type": "stream",
          "text": [
            "Index(['genres', 'acousticness', 'danceability', 'duration_ms', 'energy',\n",
            "       'instrumentalness', 'liveness', 'loudness', 'speechiness', 'tempo',\n",
            "       'valence', 'popularity', 'key', 'mode'],\n",
            "      dtype='object')\n"
          ],
          "name": "stdout"
        }
      ]
    },
    {
      "cell_type": "code",
      "metadata": {
        "colab": {
          "base_uri": "https://localhost:8080/"
        },
        "id": "kPfJroV_YkJU",
        "outputId": "162b5cd4-5ede-4b2b-e23f-d635dc26759c"
      },
      "source": [
        "print(df.describe())"
      ],
      "execution_count": 108,
      "outputs": [
        {
          "output_type": "stream",
          "text": [
            "       acousticness  danceability  ...          key         mode\n",
            "count   3231.000000   3231.000000  ...  3231.000000  3231.000000\n",
            "mean       0.368109      0.540808  ...     5.942123     0.819870\n",
            "std        0.319733      0.149376  ...     3.343316     0.384355\n",
            "min        0.000001      0.063200  ...     0.000000     0.000000\n",
            "25%        0.082796      0.450167  ...     3.000000     1.000000\n",
            "50%        0.279960      0.550335  ...     7.000000     1.000000\n",
            "75%        0.629275      0.645504  ...     9.000000     1.000000\n",
            "max        0.996000      0.940000  ...    11.000000     1.000000\n",
            "\n",
            "[8 rows x 13 columns]\n"
          ],
          "name": "stdout"
        }
      ]
    },
    {
      "cell_type": "markdown",
      "metadata": {
        "id": "kMAsxZsb8u-c"
      },
      "source": [
        "Information about type of attributes "
      ]
    },
    {
      "cell_type": "code",
      "metadata": {
        "colab": {
          "base_uri": "https://localhost:8080/"
        },
        "id": "rPPTluMEdBs7",
        "outputId": "7c060d6b-1914-4370-a4b3-e50f1b406191"
      },
      "source": [
        "print(df.dtypes)"
      ],
      "execution_count": 109,
      "outputs": [
        {
          "output_type": "stream",
          "text": [
            "genres               object\n",
            "acousticness        float64\n",
            "danceability        float64\n",
            "duration_ms         float64\n",
            "energy              float64\n",
            "instrumentalness    float64\n",
            "liveness            float64\n",
            "loudness            float64\n",
            "speechiness         float64\n",
            "tempo               float64\n",
            "valence             float64\n",
            "popularity          float64\n",
            "key                   int64\n",
            "mode                  int64\n",
            "dtype: object\n"
          ],
          "name": "stdout"
        }
      ]
    },
    {
      "cell_type": "markdown",
      "metadata": {
        "id": "UHyFIbD09EOM"
      },
      "source": [
        "Data Distribution (histogram) of attributes"
      ]
    },
    {
      "cell_type": "code",
      "metadata": {
        "colab": {
          "base_uri": "https://localhost:8080/",
          "height": 953
        },
        "id": "Im72wWW0qqjK",
        "outputId": "0cd82216-1f67-4657-ecbd-dde055485dd8"
      },
      "source": [
        "plt.figure(figsize = [15, 21]) \n",
        "for i in range(1,df.shape[1]):\n",
        " column=df.columns[i]\n",
        " plt.subplot(5,4, i)\n",
        " plt.hist(df[column])"
      ],
      "execution_count": 110,
      "outputs": [
        {
          "output_type": "display_data",
          "data": {
            "image/png": "[encoded data removed]",
            "text/plain": [
              "<Figure size 1080x1512 with 13 Axes>"
            ]
          },
          "metadata": {
            "tags": [],
            "needs_background": "light"
          }
        }
      ]
    },
    {
      "cell_type": "code",
      "metadata": {
        "colab": {
          "base_uri": "https://localhost:8080/",
          "height": 402
        },
        "id": "ggrJuIREhleb",
        "outputId": "1d9f9ef4-e940-4544-edd8-3b47e2dafca7"
      },
      "source": [
        "# 0-0.3= least danceable 0.4-0.7=medium danceable >0.7 = most danceable\n",
        "danceable = list()\n",
        "column = df['danceability']\n",
        "for index, item in enumerate(column.values):\n",
        "  if(item>=0 and item<=0.25):\n",
        "    danceable.append('least')\n",
        "  elif(item>0.25 and item<=0.5):\n",
        "    danceable.append('medium')\n",
        "  elif(item>0.5 and item<=0.75):\n",
        "    danceable.append('medium high')\n",
        "  else:\n",
        "    danceable.append('high')\n",
        "\n",
        "df['danceable']= danceable\n",
        "df"
      ],
      "execution_count": 112,
      "outputs": [
        {
          "output_type": "execute_result",
          "data": {
            "text/html": [
              "<div>\n",
              "<style scoped>\n",
              "    .dataframe tbody tr th:only-of-type {\n",
              "        vertical-align: middle;\n",
              "    }\n",
              "\n",
              "    .dataframe tbody tr th {\n",
              "        vertical-align: top;\n",
              "    }\n",
              "\n",
              "    .dataframe thead th {\n",
              "        text-align: right;\n",
              "    }\n",
              "</style>\n",
              "<table border=\"1\" class=\"dataframe\">\n",
              "  <thead>\n",
              "    <tr style=\"text-align: right;\">\n",
              "      <th></th>\n",
              "      <th>genres</th>\n",
              "      <th>acousticness</th>\n",
              "      <th>danceability</th>\n",
              "      <th>duration_ms</th>\n",
              "      <th>energy</th>\n",
              "      <th>instrumentalness</th>\n",
              "      <th>liveness</th>\n",
              "      <th>loudness</th>\n",
              "      <th>speechiness</th>\n",
              "      <th>tempo</th>\n",
              "      <th>valence</th>\n",
              "      <th>popularity</th>\n",
              "      <th>key</th>\n",
              "      <th>mode</th>\n",
              "      <th>danceable</th>\n",
              "    </tr>\n",
              "  </thead>\n",
              "  <tbody>\n",
              "    <tr>\n",
              "      <th>0</th>\n",
              "      <td>21st century classical</td>\n",
              "      <td>0.754600</td>\n",
              "      <td>0.284100</td>\n",
              "      <td>3.525932e+05</td>\n",
              "      <td>0.159580</td>\n",
              "      <td>0.484374</td>\n",
              "      <td>0.168580</td>\n",
              "      <td>-22.153400</td>\n",
              "      <td>0.062060</td>\n",
              "      <td>91.351000</td>\n",
              "      <td>0.143380</td>\n",
              "      <td>6.600000</td>\n",
              "      <td>4</td>\n",
              "      <td>1</td>\n",
              "      <td>medium</td>\n",
              "    </tr>\n",
              "    <tr>\n",
              "      <th>1</th>\n",
              "      <td>432hz</td>\n",
              "      <td>0.485515</td>\n",
              "      <td>0.312000</td>\n",
              "      <td>1.047430e+06</td>\n",
              "      <td>0.391678</td>\n",
              "      <td>0.477250</td>\n",
              "      <td>0.265940</td>\n",
              "      <td>-18.131267</td>\n",
              "      <td>0.071717</td>\n",
              "      <td>118.900933</td>\n",
              "      <td>0.236483</td>\n",
              "      <td>41.200000</td>\n",
              "      <td>11</td>\n",
              "      <td>1</td>\n",
              "      <td>medium</td>\n",
              "    </tr>\n",
              "    <tr>\n",
              "      <th>2</th>\n",
              "      <td>8-bit</td>\n",
              "      <td>0.028900</td>\n",
              "      <td>0.673000</td>\n",
              "      <td>1.334540e+05</td>\n",
              "      <td>0.950000</td>\n",
              "      <td>0.630000</td>\n",
              "      <td>0.069000</td>\n",
              "      <td>-7.899000</td>\n",
              "      <td>0.292000</td>\n",
              "      <td>192.816000</td>\n",
              "      <td>0.997000</td>\n",
              "      <td>0.000000</td>\n",
              "      <td>5</td>\n",
              "      <td>1</td>\n",
              "      <td>medium high</td>\n",
              "    </tr>\n",
              "    <tr>\n",
              "      <th>3</th>\n",
              "      <td>a cappella</td>\n",
              "      <td>0.694276</td>\n",
              "      <td>0.516172</td>\n",
              "      <td>2.018391e+05</td>\n",
              "      <td>0.330533</td>\n",
              "      <td>0.036080</td>\n",
              "      <td>0.222983</td>\n",
              "      <td>-12.656547</td>\n",
              "      <td>0.083627</td>\n",
              "      <td>105.506031</td>\n",
              "      <td>0.454077</td>\n",
              "      <td>39.086248</td>\n",
              "      <td>7</td>\n",
              "      <td>1</td>\n",
              "      <td>medium high</td>\n",
              "    </tr>\n",
              "    <tr>\n",
              "      <th>4</th>\n",
              "      <td>abstract</td>\n",
              "      <td>0.411262</td>\n",
              "      <td>0.473600</td>\n",
              "      <td>3.660984e+05</td>\n",
              "      <td>0.479400</td>\n",
              "      <td>0.841400</td>\n",
              "      <td>0.097160</td>\n",
              "      <td>-15.799400</td>\n",
              "      <td>0.045300</td>\n",
              "      <td>142.495400</td>\n",
              "      <td>0.274260</td>\n",
              "      <td>43.800000</td>\n",
              "      <td>5</td>\n",
              "      <td>1</td>\n",
              "      <td>medium</td>\n",
              "    </tr>\n",
              "    <tr>\n",
              "      <th>...</th>\n",
              "      <td>...</td>\n",
              "      <td>...</td>\n",
              "      <td>...</td>\n",
              "      <td>...</td>\n",
              "      <td>...</td>\n",
              "      <td>...</td>\n",
              "      <td>...</td>\n",
              "      <td>...</td>\n",
              "      <td>...</td>\n",
              "      <td>...</td>\n",
              "      <td>...</td>\n",
              "      <td>...</td>\n",
              "      <td>...</td>\n",
              "      <td>...</td>\n",
              "      <td>...</td>\n",
              "    </tr>\n",
              "    <tr>\n",
              "      <th>3226</th>\n",
              "      <td>zim urban groove</td>\n",
              "      <td>0.003910</td>\n",
              "      <td>0.553000</td>\n",
              "      <td>4.267200e+04</td>\n",
              "      <td>0.942000</td>\n",
              "      <td>0.961000</td>\n",
              "      <td>0.113000</td>\n",
              "      <td>-8.004000</td>\n",
              "      <td>0.039900</td>\n",
              "      <td>134.995000</td>\n",
              "      <td>0.752000</td>\n",
              "      <td>9.000000</td>\n",
              "      <td>7</td>\n",
              "      <td>1</td>\n",
              "      <td>medium high</td>\n",
              "    </tr>\n",
              "    <tr>\n",
              "      <th>3227</th>\n",
              "      <td>zolo</td>\n",
              "      <td>0.208648</td>\n",
              "      <td>0.533837</td>\n",
              "      <td>2.641016e+05</td>\n",
              "      <td>0.620470</td>\n",
              "      <td>0.163334</td>\n",
              "      <td>0.201430</td>\n",
              "      <td>-10.878906</td>\n",
              "      <td>0.061828</td>\n",
              "      <td>126.765194</td>\n",
              "      <td>0.576721</td>\n",
              "      <td>31.108254</td>\n",
              "      <td>9</td>\n",
              "      <td>1</td>\n",
              "      <td>medium high</td>\n",
              "    </tr>\n",
              "    <tr>\n",
              "      <th>3228</th>\n",
              "      <td>zouk</td>\n",
              "      <td>0.272928</td>\n",
              "      <td>0.641889</td>\n",
              "      <td>4.416418e+05</td>\n",
              "      <td>0.695778</td>\n",
              "      <td>0.257604</td>\n",
              "      <td>0.166011</td>\n",
              "      <td>-9.518889</td>\n",
              "      <td>0.050511</td>\n",
              "      <td>105.848889</td>\n",
              "      <td>0.878444</td>\n",
              "      <td>32.555556</td>\n",
              "      <td>7</td>\n",
              "      <td>1</td>\n",
              "      <td>medium high</td>\n",
              "    </tr>\n",
              "    <tr>\n",
              "      <th>3229</th>\n",
              "      <td>zurich indie</td>\n",
              "      <td>0.993000</td>\n",
              "      <td>0.705667</td>\n",
              "      <td>1.984173e+05</td>\n",
              "      <td>0.172667</td>\n",
              "      <td>0.468633</td>\n",
              "      <td>0.179667</td>\n",
              "      <td>-11.453333</td>\n",
              "      <td>0.348667</td>\n",
              "      <td>91.278000</td>\n",
              "      <td>0.739000</td>\n",
              "      <td>0.000000</td>\n",
              "      <td>7</td>\n",
              "      <td>0</td>\n",
              "      <td>medium high</td>\n",
              "    </tr>\n",
              "    <tr>\n",
              "      <th>3230</th>\n",
              "      <td>zydeco</td>\n",
              "      <td>0.381496</td>\n",
              "      <td>0.625963</td>\n",
              "      <td>1.840881e+05</td>\n",
              "      <td>0.572417</td>\n",
              "      <td>0.019234</td>\n",
              "      <td>0.262545</td>\n",
              "      <td>-10.643750</td>\n",
              "      <td>0.072440</td>\n",
              "      <td>130.137242</td>\n",
              "      <td>0.792174</td>\n",
              "      <td>27.703810</td>\n",
              "      <td>9</td>\n",
              "      <td>1</td>\n",
              "      <td>medium high</td>\n",
              "    </tr>\n",
              "  </tbody>\n",
              "</table>\n",
              "<p>3231 rows × 15 columns</p>\n",
              "</div>"
            ],
            "text/plain": [
              "                      genres  acousticness  ...  mode    danceable\n",
              "0     21st century classical      0.754600  ...     1       medium\n",
              "1                      432hz      0.485515  ...     1       medium\n",
              "2                      8-bit      0.028900  ...     1  medium high\n",
              "3                 a cappella      0.694276  ...     1  medium high\n",
              "4                   abstract      0.411262  ...     1       medium\n",
              "...                      ...           ...  ...   ...          ...\n",
              "3226        zim urban groove      0.003910  ...     1  medium high\n",
              "3227                    zolo      0.208648  ...     1  medium high\n",
              "3228                    zouk      0.272928  ...     1  medium high\n",
              "3229            zurich indie      0.993000  ...     0  medium high\n",
              "3230                  zydeco      0.381496  ...     1  medium high\n",
              "\n",
              "[3231 rows x 15 columns]"
            ]
          },
          "metadata": {
            "tags": []
          },
          "execution_count": 112
        }
      ]
    },
    {
      "cell_type": "markdown",
      "metadata": {
        "id": "E-MCbxg787mG"
      },
      "source": [
        " Information about class label distribution through pie chart"
      ]
    },
    {
      "cell_type": "code",
      "metadata": {
        "colab": {
          "base_uri": "https://localhost:8080/",
          "height": 466
        },
        "id": "yKIIDNNF9gCl",
        "outputId": "c5b7e39f-e45f-45bd-956e-f7d3c8d3e93a"
      },
      "source": [
        "Danceable = df['danceable'].value_counts().plot(kind='pie', figsize=(8, 8))"
      ],
      "execution_count": 113,
      "outputs": [
        {
          "output_type": "display_data",
          "data": {
            "image/png": "[encoded data removed]",
            "text/plain": [
              "<Figure size 576x576 with 1 Axes>"
            ]
          },
          "metadata": {
            "tags": []
          }
        }
      ]
    },
    {
      "cell_type": "markdown",
      "metadata": {
        "id": "5ZYphC4B9ssJ"
      },
      "source": [
        "Pre-Processing on the data"
      ]
    },
    {
      "cell_type": "code",
      "metadata": {
        "id": "hl1GwLvn91BZ"
      },
      "source": [
        "new_df=df.drop(['genres','key','mode'],axis = 1)"
      ],
      "execution_count": 114,
      "outputs": []
    },
    {
      "cell_type": "code",
      "metadata": {
        "colab": {
          "base_uri": "https://localhost:8080/"
        },
        "id": "ihE6e5shAVBL",
        "outputId": "149a10f1-b2c8-4b92-e7bd-e9320b0cd71a"
      },
      "source": [
        "print('countable attributes')\n",
        "print(new_df.shape[1])"
      ],
      "execution_count": 115,
      "outputs": [
        {
          "output_type": "stream",
          "text": [
            "countable attributes\n",
            "12\n"
          ],
          "name": "stdout"
        }
      ]
    },
    {
      "cell_type": "code",
      "metadata": {
        "colab": {
          "base_uri": "https://localhost:8080/"
        },
        "id": "0AOcu794Ae2N",
        "outputId": "6a246b1f-14b7-4499-9227-e155ed9d4926"
      },
      "source": [
        "Mean_result=list()\n",
        "for i in range(0,11):\n",
        " column=new_df.columns[i]\n",
        " Mean_result.append(new_df[column].mean())\n",
        "print(Mean_result)\n",
        "print(len(Mean_result))"
      ],
      "execution_count": 116,
      "outputs": [
        {
          "output_type": "stream",
          "text": [
            "[0.36810882067161776, 0.5408082674379456, 261460.37754151007, 0.583504411964408, 0.25488071273961643, 0.20400431906344813, -10.395827919658329, 0.08499391412534824, 119.70867491960963, 0.4837560840851136, 29.706987936479106]\n",
            "11\n"
          ],
          "name": "stdout"
        }
      ]
    },
    {
      "cell_type": "code",
      "metadata": {
        "colab": {
          "base_uri": "https://localhost:8080/"
        },
        "id": "qf8BECSKBjHK",
        "outputId": "32d646cc-47f0-4995-d269-4d48c4d67bf5"
      },
      "source": [
        "SD_result=list()\n",
        "for i in range(0,11):\n",
        " column=new_df.columns[i]\n",
        " SD_result.append(new_df[column].std())\n",
        "print(SD_result)"
      ],
      "execution_count": 117,
      "outputs": [
        {
          "output_type": "stream",
          "text": [
            "[0.31973333643777735, 0.14937602076500558, 125600.23454260152, 0.2329611464190059, 0.28395101118339156, 0.10345528218783698, 5.024773401003553, 0.08116904382161547, 17.336154360561583, 0.20041295562614114, 18.41571328563457]\n"
          ],
          "name": "stdout"
        }
      ]
    },
    {
      "cell_type": "code",
      "metadata": {
        "colab": {
          "base_uri": "https://localhost:8080/",
          "height": 402
        },
        "id": "a2hAGsrEBpiN",
        "outputId": "0669e42b-30f4-4816-8e44-9850d701d3dc"
      },
      "source": [
        "sdf=new_df\n",
        "for i in range(0,11):\n",
        " column=new_df.columns[i]\n",
        " sdf[column]=preprocessing.scale(new_df[column])\n",
        "sdf"
      ],
      "execution_count": 118,
      "outputs": [
        {
          "output_type": "execute_result",
          "data": {
            "text/html": [
              "<div>\n",
              "<style scoped>\n",
              "    .dataframe tbody tr th:only-of-type {\n",
              "        vertical-align: middle;\n",
              "    }\n",
              "\n",
              "    .dataframe tbody tr th {\n",
              "        vertical-align: top;\n",
              "    }\n",
              "\n",
              "    .dataframe thead th {\n",
              "        text-align: right;\n",
              "    }\n",
              "</style>\n",
              "<table border=\"1\" class=\"dataframe\">\n",
              "  <thead>\n",
              "    <tr style=\"text-align: right;\">\n",
              "      <th></th>\n",
              "      <th>acousticness</th>\n",
              "      <th>danceability</th>\n",
              "      <th>duration_ms</th>\n",
              "      <th>energy</th>\n",
              "      <th>instrumentalness</th>\n",
              "      <th>liveness</th>\n",
              "      <th>loudness</th>\n",
              "      <th>speechiness</th>\n",
              "      <th>tempo</th>\n",
              "      <th>valence</th>\n",
              "      <th>popularity</th>\n",
              "      <th>danceable</th>\n",
              "    </tr>\n",
              "  </thead>\n",
              "  <tbody>\n",
              "    <tr>\n",
              "      <th>0</th>\n",
              "      <td>1.208979</td>\n",
              "      <td>-1.718803</td>\n",
              "      <td>0.725691</td>\n",
              "      <td>-1.820003</td>\n",
              "      <td>0.808339</td>\n",
              "      <td>-0.342465</td>\n",
              "      <td>-2.340283</td>\n",
              "      <td>-0.282589</td>\n",
              "      <td>-1.636007</td>\n",
              "      <td>-1.698637</td>\n",
              "      <td>-1.254937</td>\n",
              "      <td>medium</td>\n",
              "    </tr>\n",
              "    <tr>\n",
              "      <th>1</th>\n",
              "      <td>0.367256</td>\n",
              "      <td>-1.531997</td>\n",
              "      <td>6.258680</td>\n",
              "      <td>-0.823553</td>\n",
              "      <td>0.783248</td>\n",
              "      <td>0.598764</td>\n",
              "      <td>-1.539699</td>\n",
              "      <td>-0.163601</td>\n",
              "      <td>-0.046600</td>\n",
              "      <td>-1.234007</td>\n",
              "      <td>0.624184</td>\n",
              "      <td>medium</td>\n",
              "    </tr>\n",
              "    <tr>\n",
              "      <th>2</th>\n",
              "      <td>-1.061076</td>\n",
              "      <td>0.885097</td>\n",
              "      <td>-1.019315</td>\n",
              "      <td>1.573448</td>\n",
              "      <td>1.321275</td>\n",
              "      <td>-1.305155</td>\n",
              "      <td>0.496980</td>\n",
              "      <td>2.550703</td>\n",
              "      <td>4.217697</td>\n",
              "      <td>2.561328</td>\n",
              "      <td>-1.613382</td>\n",
              "      <td>medium high</td>\n",
              "    </tr>\n",
              "    <tr>\n",
              "      <th>3</th>\n",
              "      <td>1.020282</td>\n",
              "      <td>-0.164952</td>\n",
              "      <td>-0.474765</td>\n",
              "      <td>-1.086065</td>\n",
              "      <td>-0.770678</td>\n",
              "      <td>0.183475</td>\n",
              "      <td>-0.449984</td>\n",
              "      <td>-0.016838</td>\n",
              "      <td>-0.819377</td>\n",
              "      <td>-0.148112</td>\n",
              "      <td>0.509386</td>\n",
              "      <td>medium high</td>\n",
              "    </tr>\n",
              "    <tr>\n",
              "      <th>4</th>\n",
              "      <td>0.134987</td>\n",
              "      <td>-0.449996</td>\n",
              "      <td>0.833233</td>\n",
              "      <td>-0.446944</td>\n",
              "      <td>2.065885</td>\n",
              "      <td>-1.032918</td>\n",
              "      <td>-1.075553</td>\n",
              "      <td>-0.489103</td>\n",
              "      <td>1.314608</td>\n",
              "      <td>-1.045484</td>\n",
              "      <td>0.765389</td>\n",
              "      <td>medium</td>\n",
              "    </tr>\n",
              "    <tr>\n",
              "      <th>...</th>\n",
              "      <td>...</td>\n",
              "      <td>...</td>\n",
              "      <td>...</td>\n",
              "      <td>...</td>\n",
              "      <td>...</td>\n",
              "      <td>...</td>\n",
              "      <td>...</td>\n",
              "      <td>...</td>\n",
              "      <td>...</td>\n",
              "      <td>...</td>\n",
              "      <td>...</td>\n",
              "      <td>...</td>\n",
              "    </tr>\n",
              "    <tr>\n",
              "      <th>3226</th>\n",
              "      <td>-1.139247</td>\n",
              "      <td>0.081630</td>\n",
              "      <td>-1.742212</td>\n",
              "      <td>1.539102</td>\n",
              "      <td>2.487149</td>\n",
              "      <td>-0.879785</td>\n",
              "      <td>0.476081</td>\n",
              "      <td>-0.555642</td>\n",
              "      <td>0.881896</td>\n",
              "      <td>1.338663</td>\n",
              "      <td>-1.124594</td>\n",
              "      <td>medium high</td>\n",
              "    </tr>\n",
              "    <tr>\n",
              "      <th>3227</th>\n",
              "      <td>-0.498807</td>\n",
              "      <td>-0.046675</td>\n",
              "      <td>0.021032</td>\n",
              "      <td>0.158703</td>\n",
              "      <td>-0.322453</td>\n",
              "      <td>-0.024884</td>\n",
              "      <td>-0.096154</td>\n",
              "      <td>-0.285444</td>\n",
              "      <td>0.407104</td>\n",
              "      <td>0.463937</td>\n",
              "      <td>0.076103</td>\n",
              "      <td>medium high</td>\n",
              "    </tr>\n",
              "    <tr>\n",
              "      <th>3228</th>\n",
              "      <td>-0.297735</td>\n",
              "      <td>0.676790</td>\n",
              "      <td>1.434785</td>\n",
              "      <td>0.482015</td>\n",
              "      <td>0.009591</td>\n",
              "      <td>-0.367300</td>\n",
              "      <td>0.174550</td>\n",
              "      <td>-0.424893</td>\n",
              "      <td>-0.799597</td>\n",
              "      <td>1.969680</td>\n",
              "      <td>0.154705</td>\n",
              "      <td>medium high</td>\n",
              "    </tr>\n",
              "    <tr>\n",
              "      <th>3229</th>\n",
              "      <td>1.954716</td>\n",
              "      <td>1.103818</td>\n",
              "      <td>-0.502012</td>\n",
              "      <td>-1.763819</td>\n",
              "      <td>0.752896</td>\n",
              "      <td>-0.235284</td>\n",
              "      <td>-0.210491</td>\n",
              "      <td>3.248943</td>\n",
              "      <td>-1.640218</td>\n",
              "      <td>1.273787</td>\n",
              "      <td>-1.613382</td>\n",
              "      <td>medium high</td>\n",
              "    </tr>\n",
              "    <tr>\n",
              "      <th>3230</th>\n",
              "      <td>0.041878</td>\n",
              "      <td>0.570157</td>\n",
              "      <td>-0.616116</td>\n",
              "      <td>-0.047600</td>\n",
              "      <td>-0.830014</td>\n",
              "      <td>0.565940</td>\n",
              "      <td>-0.049347</td>\n",
              "      <td>-0.154682</td>\n",
              "      <td>0.601643</td>\n",
              "      <td>1.539152</td>\n",
              "      <td>-0.108792</td>\n",
              "      <td>medium high</td>\n",
              "    </tr>\n",
              "  </tbody>\n",
              "</table>\n",
              "<p>3231 rows × 12 columns</p>\n",
              "</div>"
            ],
            "text/plain": [
              "      acousticness  danceability  ...  popularity    danceable\n",
              "0         1.208979     -1.718803  ...   -1.254937       medium\n",
              "1         0.367256     -1.531997  ...    0.624184       medium\n",
              "2        -1.061076      0.885097  ...   -1.613382  medium high\n",
              "3         1.020282     -0.164952  ...    0.509386  medium high\n",
              "4         0.134987     -0.449996  ...    0.765389       medium\n",
              "...            ...           ...  ...         ...          ...\n",
              "3226     -1.139247      0.081630  ...   -1.124594  medium high\n",
              "3227     -0.498807     -0.046675  ...    0.076103  medium high\n",
              "3228     -0.297735      0.676790  ...    0.154705  medium high\n",
              "3229      1.954716      1.103818  ...   -1.613382  medium high\n",
              "3230      0.041878      0.570157  ...   -0.108792  medium high\n",
              "\n",
              "[3231 rows x 12 columns]"
            ]
          },
          "metadata": {
            "tags": []
          },
          "execution_count": 118
        }
      ]
    },
    {
      "cell_type": "code",
      "metadata": {
        "colab": {
          "base_uri": "https://localhost:8080/"
        },
        "id": "1VUWn1R0B8T9",
        "outputId": "c5070e46-984c-4a49-9b5a-c0389e44a019"
      },
      "source": [
        "SMean_result=list()\n",
        "for i in range(0,11):\n",
        " column=sdf.columns[i]\n",
        " SMean_result.append(round(sdf[column].mean()))\n",
        "print(SMean_result)"
      ],
      "execution_count": 119,
      "outputs": [
        {
          "output_type": "stream",
          "text": [
            "[0, 0, 0, 0, 0, 0, 0, 0, 0, 0, 0]\n"
          ],
          "name": "stdout"
        }
      ]
    },
    {
      "cell_type": "code",
      "metadata": {
        "colab": {
          "base_uri": "https://localhost:8080/"
        },
        "id": "ZsfZxMhCC5wc",
        "outputId": "f352a7e5-f469-4757-f001-26bc51738fb2"
      },
      "source": [
        "SSD_result=list()\n",
        "for i in range(0,11):\n",
        " column=sdf.columns[i]\n",
        " SSD_result.append(round(sdf[column].std()))\n",
        "print(SSD_result)"
      ],
      "execution_count": 120,
      "outputs": [
        {
          "output_type": "stream",
          "text": [
            "[1, 1, 1, 1, 1, 1, 1, 1, 1, 1, 1]\n"
          ],
          "name": "stdout"
        }
      ]
    },
    {
      "cell_type": "code",
      "metadata": {
        "colab": {
          "base_uri": "https://localhost:8080/",
          "height": 717
        },
        "id": "dEMu55unC_M-",
        "outputId": "ce629f48-8a56-4428-dbe3-84ae6c6d9c2f"
      },
      "source": [
        "plt.figure(figsize = [15, 21]) \n",
        "for i in range(1,sdf.shape[1]):\n",
        " column=sdf.columns[i]\n",
        " plt.subplot(5,4, i)\n",
        " plt.hist(sdf[column])"
      ],
      "execution_count": 121,
      "outputs": [
        {
          "output_type": "display_data",
          "data": {
            "image/png": "[encoded data removed]",
            "text/plain": [
              "<Figure size 1080x1512 with 11 Axes>"
            ]
          },
          "metadata": {
            "tags": [],
            "needs_background": "light"
          }
        }
      ]
    },
    {
      "cell_type": "code",
      "metadata": {
        "id": "7FlZUOp2Dixd",
        "colab": {
          "base_uri": "https://localhost:8080/",
          "height": 279
        },
        "outputId": "88ba9827-656e-4d8b-a9ca-3973ab310004"
      },
      "source": [
        "new_sdf=sdf.drop(['danceable'],axis = 1)\n",
        "new_sdf = new_sdf.astype(int)\n",
        "new_sdf.head().plot.bar()"
      ],
      "execution_count": 122,
      "outputs": [
        {
          "output_type": "execute_result",
          "data": {
            "text/plain": [
              "<matplotlib.axes._subplots.AxesSubplot at 0x7f58974bd310>"
            ]
          },
          "metadata": {
            "tags": []
          },
          "execution_count": 122
        },
        {
          "output_type": "display_data",
          "data": {
            "image/png": "[encoded data removed]",
            "text/plain": [
              "<Figure size 432x288 with 1 Axes>"
            ]
          },
          "metadata": {
            "tags": [],
            "needs_background": "light"
          }
        }
      ]
    },
    {
      "cell_type": "code",
      "metadata": {
        "id": "8JHdrjvSyaIC"
      },
      "source": [
        "X=sdf.values[:,:-1]\n",
        "Y=sdf.values[:,-1]"
      ],
      "execution_count": 123,
      "outputs": []
    },
    {
      "cell_type": "code",
      "metadata": {
        "colab": {
          "base_uri": "https://localhost:8080/"
        },
        "id": "AwND45XcyhN-",
        "outputId": "fda45d7e-4cd9-4a7d-ed5b-cc5ebf40e1d9"
      },
      "source": [
        "print(X.shape)\n",
        "print(Y.shape)"
      ],
      "execution_count": 124,
      "outputs": [
        {
          "output_type": "stream",
          "text": [
            "(3231, 11)\n",
            "(3231,)\n"
          ],
          "name": "stdout"
        }
      ]
    },
    {
      "cell_type": "code",
      "metadata": {
        "colab": {
          "base_uri": "https://localhost:8080/"
        },
        "id": "9--8Z8VHykyU",
        "outputId": "c497eafa-7a06-4617-ea8f-36f9d36d5386"
      },
      "source": [
        "classLabels=np.unique(Y)\n",
        "classLabels"
      ],
      "execution_count": 125,
      "outputs": [
        {
          "output_type": "execute_result",
          "data": {
            "text/plain": [
              "array(['high', 'least', 'medium', 'medium high'], dtype=object)"
            ]
          },
          "metadata": {
            "tags": []
          },
          "execution_count": 125
        }
      ]
    },
    {
      "cell_type": "code",
      "metadata": {
        "id": "8V3Oi5yDyqFX"
      },
      "source": [
        "test_val = 0.25\n",
        "X_train, X_test, Y_train, Y_test = train_test_split(X,Y,test_size=test_val)"
      ],
      "execution_count": 126,
      "outputs": []
    },
    {
      "cell_type": "code",
      "metadata": {
        "colab": {
          "base_uri": "https://localhost:8080/"
        },
        "id": "PJjAW2ngzVwy",
        "outputId": "c0a7d664-3b32-4814-94e1-bfde2d1f70e0"
      },
      "source": [
        "print(X_train.shape)\n",
        "print(X_test.shape)\n",
        "print(Y_train.shape)\n",
        "print(Y_test.shape)"
      ],
      "execution_count": 127,
      "outputs": [
        {
          "output_type": "stream",
          "text": [
            "(2423, 11)\n",
            "(808, 11)\n",
            "(2423,)\n",
            "(808,)\n"
          ],
          "name": "stdout"
        }
      ]
    },
    {
      "cell_type": "code",
      "metadata": {
        "id": "mS5IbbVtzqrE"
      },
      "source": [
        "DTclassifer = DecisionTreeClassifier().fit(X_train,Y_train)"
      ],
      "execution_count": 128,
      "outputs": []
    },
    {
      "cell_type": "code",
      "metadata": {
        "colab": {
          "base_uri": "https://localhost:8080/",
          "height": 436
        },
        "id": "fNSFWdr20B8J",
        "outputId": "7fc9547c-5f65-41d8-9817-4f57db25acd7"
      },
      "source": [
        "dot_data=export_graphviz(DTclassifer, feature_names=sdf.columns[:-1], class_names=classLabels, filled=True)\n",
        "graph=pydotplus.graph_from_dot_data(dot_data)\n",
        "Image(graph.create_png())"
      ],
      "execution_count": 130,
      "outputs": [
        {
          "output_type": "execute_result",
          "data": {
            "image/png": "[encoded data removed]",
            "text/plain": [
              "<IPython.core.display.Image object>"
            ]
          },
          "metadata": {
            "tags": []
          },
          "execution_count": 130
        }
      ]
    },
    {
      "cell_type": "code",
      "metadata": {
        "colab": {
          "base_uri": "https://localhost:8080/"
        },
        "id": "bFaPQU-v0fr1",
        "outputId": "d7b4a50e-8838-4cc5-c7fc-100befe54d4d"
      },
      "source": [
        "print(Y_test)\n",
        "Y_predict=DTclassifer.predict(X_test)\n",
        "print(Y_predict)"
      ],
      "execution_count": 131,
      "outputs": [
        {
          "output_type": "stream",
          "text": [
            "['medium high' 'medium high' 'medium high' 'medium high' 'medium'\n",
            " 'medium high' 'medium high' 'medium high' 'medium' 'medium high'\n",
            " 'medium high' 'medium high' 'medium high' 'medium high' 'medium high'\n",
            " 'medium high' 'medium' 'medium high' 'medium high' 'medium high' 'medium'\n",
            " 'medium' 'high' 'medium' 'medium' 'medium high' 'medium high'\n",
            " 'medium high' 'medium' 'medium high' 'high' 'medium high' 'medium high'\n",
            " 'medium high' 'medium high' 'medium high' 'medium high' 'medium high'\n",
            " 'medium' 'medium high' 'high' 'medium' 'medium high' 'medium' 'medium'\n",
            " 'medium high' 'medium high' 'medium' 'medium high' 'medium high'\n",
            " 'medium high' 'medium high' 'medium high' 'medium high' 'medium' 'medium'\n",
            " 'medium high' 'medium high' 'medium' 'medium high' 'high' 'medium high'\n",
            " 'medium high' 'medium' 'medium' 'medium' 'medium high' 'medium high'\n",
            " 'medium high' 'medium high' 'medium' 'medium high' 'medium high' 'medium'\n",
            " 'medium' 'medium' 'least' 'medium high' 'medium high' 'medium'\n",
            " 'medium high' 'medium' 'medium' 'medium high' 'medium high' 'medium'\n",
            " 'medium' 'medium high' 'medium' 'medium high' 'medium high' 'medium high'\n",
            " 'medium' 'medium high' 'medium' 'medium' 'medium high' 'medium'\n",
            " 'medium high' 'medium high' 'medium high' 'medium high' 'medium high'\n",
            " 'least' 'medium' 'medium high' 'medium' 'medium high' 'medium high'\n",
            " 'medium high' 'high' 'medium high' 'medium' 'medium' 'high' 'medium'\n",
            " 'medium high' 'medium high' 'medium high' 'medium high' 'medium'\n",
            " 'medium high' 'medium high' 'medium' 'medium high' 'medium' 'medium high'\n",
            " 'medium high' 'medium' 'medium high' 'medium high' 'medium high'\n",
            " 'medium high' 'medium high' 'medium' 'medium' 'medium high' 'least'\n",
            " 'medium' 'least' 'medium high' 'medium' 'medium' 'medium' 'medium'\n",
            " 'medium' 'medium high' 'medium' 'medium high' 'medium' 'medium'\n",
            " 'medium high' 'medium' 'medium' 'medium' 'medium' 'high' 'high' 'medium'\n",
            " 'medium high' 'medium high' 'medium high' 'medium' 'medium' 'medium'\n",
            " 'medium high' 'medium high' 'medium high' 'medium' 'medium high'\n",
            " 'medium high' 'medium high' 'medium' 'medium' 'medium high' 'medium high'\n",
            " 'medium high' 'medium high' 'medium high' 'medium high' 'medium high'\n",
            " 'medium high' 'medium' 'medium high' 'medium' 'medium' 'medium high'\n",
            " 'high' 'medium high' 'medium high' 'medium high' 'medium high'\n",
            " 'medium high' 'medium high' 'high' 'medium high' 'medium high'\n",
            " 'medium high' 'medium' 'medium high' 'medium' 'medium high' 'medium'\n",
            " 'medium high' 'medium high' 'medium' 'medium high' 'medium' 'medium high'\n",
            " 'medium' 'medium high' 'medium high' 'medium' 'high' 'medium high'\n",
            " 'medium high' 'medium high' 'medium high' 'medium' 'high' 'medium'\n",
            " 'least' 'medium high' 'medium' 'medium' 'medium' 'medium high' 'high'\n",
            " 'medium high' 'medium' 'medium high' 'medium' 'medium high' 'medium high'\n",
            " 'medium' 'medium high' 'medium' 'medium high' 'medium high' 'medium high'\n",
            " 'medium high' 'medium' 'medium high' 'medium high' 'medium high'\n",
            " 'medium high' 'medium' 'medium high' 'medium high' 'medium high'\n",
            " 'medium high' 'medium high' 'medium' 'medium high' 'medium' 'medium high'\n",
            " 'medium' 'medium high' 'medium high' 'medium high' 'medium high'\n",
            " 'medium high' 'medium' 'medium high' 'medium' 'least' 'medium high'\n",
            " 'medium high' 'medium high' 'medium high' 'medium high' 'medium'\n",
            " 'medium high' 'medium' 'medium' 'medium high' 'medium' 'high' 'medium'\n",
            " 'medium high' 'medium high' 'medium' 'medium high' 'high' 'medium high'\n",
            " 'medium high' 'medium high' 'medium high' 'medium' 'medium' 'medium high'\n",
            " 'medium high' 'medium high' 'medium high' 'medium' 'medium' 'least'\n",
            " 'high' 'medium high' 'medium high' 'medium' 'medium high' 'medium' 'high'\n",
            " 'high' 'high' 'medium high' 'medium high' 'medium' 'medium' 'medium high'\n",
            " 'high' 'medium high' 'medium high' 'medium' 'medium' 'medium high'\n",
            " 'medium' 'medium high' 'medium high' 'least' 'medium high' 'medium high'\n",
            " 'medium high' 'medium high' 'least' 'medium' 'medium' 'high' 'medium'\n",
            " 'medium' 'medium' 'medium high' 'medium' 'medium high' 'least' 'medium'\n",
            " 'medium' 'medium high' 'medium' 'high' 'medium high' 'high' 'medium high'\n",
            " 'medium high' 'medium' 'medium high' 'medium high' 'medium high'\n",
            " 'medium high' 'medium' 'medium' 'medium high' 'medium high' 'medium high'\n",
            " 'medium' 'medium' 'medium' 'medium high' 'high' 'medium' 'medium'\n",
            " 'medium high' 'medium high' 'high' 'medium' 'medium' 'medium' 'medium'\n",
            " 'least' 'medium high' 'medium high' 'high' 'medium' 'medium high'\n",
            " 'medium' 'medium high' 'medium' 'medium high' 'least' 'medium high'\n",
            " 'medium' 'medium high' 'medium high' 'medium high' 'medium high'\n",
            " 'medium high' 'medium' 'medium' 'medium high' 'medium high' 'medium'\n",
            " 'medium high' 'medium high' 'medium high' 'least' 'medium high' 'medium'\n",
            " 'medium' 'medium high' 'medium high' 'medium high' 'medium high' 'high'\n",
            " 'medium high' 'high' 'medium high' 'medium high' 'medium high' 'medium'\n",
            " 'medium high' 'medium' 'least' 'medium high' 'medium high' 'medium'\n",
            " 'medium high' 'medium high' 'high' 'medium high' 'medium' 'least'\n",
            " 'medium high' 'medium' 'medium high' 'medium' 'medium' 'medium' 'medium'\n",
            " 'medium high' 'medium' 'medium high' 'medium high' 'high' 'medium' 'high'\n",
            " 'medium' 'medium high' 'medium high' 'medium high' 'medium high' 'medium'\n",
            " 'medium high' 'medium high' 'medium high' 'high' 'medium high' 'medium'\n",
            " 'medium high' 'medium high' 'medium high' 'medium high' 'medium high'\n",
            " 'medium' 'medium high' 'medium high' 'medium' 'medium' 'medium'\n",
            " 'medium high' 'medium high' 'least' 'least' 'medium' 'medium high'\n",
            " 'medium high' 'medium high' 'least' 'medium high' 'medium high'\n",
            " 'medium high' 'medium' 'high' 'medium high' 'medium high' 'medium'\n",
            " 'medium' 'medium high' 'medium' 'medium high' 'medium high' 'medium'\n",
            " 'medium high' 'medium high' 'medium' 'medium high' 'medium' 'least'\n",
            " 'medium' 'medium' 'medium' 'medium high' 'high' 'medium' 'medium high'\n",
            " 'medium' 'medium high' 'medium high' 'medium high' 'medium' 'medium high'\n",
            " 'high' 'medium high' 'medium high' 'medium high' 'medium high' 'least'\n",
            " 'medium' 'medium high' 'medium' 'medium high' 'high' 'medium high'\n",
            " 'medium high' 'high' 'least' 'medium' 'medium high' 'medium' 'medium'\n",
            " 'medium high' 'medium' 'medium' 'medium' 'medium high' 'high' 'medium'\n",
            " 'medium high' 'medium' 'medium high' 'medium' 'medium high' 'high'\n",
            " 'medium high' 'medium' 'medium' 'medium' 'medium high' 'medium high'\n",
            " 'medium high' 'medium high' 'medium high' 'medium high' 'medium high'\n",
            " 'medium' 'medium' 'medium high' 'medium high' 'medium high' 'medium'\n",
            " 'medium high' 'medium high' 'medium high' 'medium high' 'medium high'\n",
            " 'medium high' 'least' 'medium' 'medium high' 'medium high' 'medium high'\n",
            " 'medium high' 'medium high' 'medium high' 'medium high' 'medium high'\n",
            " 'least' 'medium' 'least' 'medium' 'high' 'medium' 'medium high'\n",
            " 'medium high' 'medium' 'medium' 'medium high' 'medium high' 'medium'\n",
            " 'medium high' 'medium high' 'medium high' 'medium' 'high' 'medium high'\n",
            " 'high' 'medium' 'medium high' 'medium' 'medium high' 'high' 'medium'\n",
            " 'medium high' 'medium high' 'medium high' 'medium high' 'medium high'\n",
            " 'medium high' 'medium high' 'medium high' 'medium' 'medium' 'medium high'\n",
            " 'medium high' 'medium' 'medium high' 'medium high' 'high' 'medium high'\n",
            " 'medium' 'medium high' 'medium' 'medium' 'high' 'medium' 'medium high'\n",
            " 'medium high' 'medium high' 'medium high' 'medium' 'medium' 'least'\n",
            " 'medium' 'medium high' 'medium high' 'medium' 'medium high' 'medium high'\n",
            " 'medium high' 'medium high' 'medium' 'high' 'medium high' 'medium'\n",
            " 'medium high' 'medium high' 'medium' 'medium' 'medium high' 'medium'\n",
            " 'medium high' 'medium' 'medium high' 'medium' 'medium high' 'medium'\n",
            " 'medium' 'medium high' 'medium high' 'medium high' 'medium high'\n",
            " 'medium high' 'medium' 'medium high' 'medium high' 'medium high'\n",
            " 'medium high' 'medium high' 'medium' 'medium high' 'high' 'medium high'\n",
            " 'medium high' 'medium' 'high' 'medium' 'high' 'medium high' 'high'\n",
            " 'medium high' 'medium' 'medium high' 'medium high' 'medium high'\n",
            " 'medium high' 'medium high' 'medium high' 'high' 'medium high'\n",
            " 'medium high' 'medium high' 'medium high' 'medium high' 'medium high'\n",
            " 'medium' 'medium' 'medium' 'medium high' 'medium high' 'medium high'\n",
            " 'medium high' 'medium' 'medium' 'medium high' 'medium high' 'medium'\n",
            " 'medium high' 'medium' 'medium high' 'medium' 'medium high' 'medium high'\n",
            " 'medium' 'medium' 'medium high' 'medium high' 'medium high' 'medium high'\n",
            " 'medium' 'medium' 'medium' 'medium high' 'medium' 'least' 'medium high'\n",
            " 'medium' 'medium high' 'medium high' 'medium high' 'medium' 'medium'\n",
            " 'medium high' 'medium high' 'medium' 'medium high' 'medium high'\n",
            " 'medium high' 'medium' 'medium' 'medium' 'medium high' 'medium' 'high'\n",
            " 'medium high' 'medium high' 'medium high' 'medium high' 'medium high'\n",
            " 'medium' 'medium high' 'medium high' 'medium' 'medium high' 'medium high'\n",
            " 'medium high' 'medium' 'medium' 'medium high' 'medium high' 'medium high'\n",
            " 'medium' 'high' 'medium high' 'medium high' 'medium high' 'medium high'\n",
            " 'medium' 'medium high' 'medium' 'high' 'least' 'medium high' 'medium'\n",
            " 'medium high' 'medium high' 'medium high' 'medium high' 'medium high'\n",
            " 'medium high' 'medium high' 'medium high' 'medium high' 'medium high'\n",
            " 'medium high' 'medium high' 'medium high' 'medium high' 'medium' 'medium'\n",
            " 'medium' 'medium' 'medium' 'medium' 'medium' 'medium high' 'medium'\n",
            " 'medium' 'medium high' 'medium high' 'medium high' 'medium high'\n",
            " 'medium high' 'medium' 'medium high' 'medium high' 'medium high'\n",
            " 'medium high' 'medium high' 'least' 'high' 'medium high' 'medium' 'high'\n",
            " 'medium high' 'medium high' 'medium high' 'medium high' 'medium high']\n",
            "['medium high' 'medium high' 'medium high' 'medium high' 'medium'\n",
            " 'medium high' 'medium high' 'medium high' 'medium' 'medium high'\n",
            " 'medium high' 'medium high' 'medium high' 'medium high' 'medium high'\n",
            " 'medium high' 'medium' 'medium high' 'medium high' 'medium high' 'medium'\n",
            " 'medium' 'high' 'medium' 'medium' 'medium high' 'medium high'\n",
            " 'medium high' 'medium' 'medium high' 'high' 'medium high' 'medium high'\n",
            " 'medium high' 'medium high' 'medium high' 'medium high' 'medium high'\n",
            " 'medium' 'medium high' 'high' 'medium' 'medium high' 'medium' 'medium'\n",
            " 'medium high' 'medium high' 'medium' 'medium high' 'medium high'\n",
            " 'medium high' 'medium high' 'medium high' 'medium high' 'medium' 'medium'\n",
            " 'medium high' 'medium high' 'medium' 'medium high' 'high' 'medium high'\n",
            " 'medium high' 'medium' 'medium' 'medium' 'medium high' 'medium high'\n",
            " 'medium high' 'medium high' 'medium' 'medium high' 'medium high' 'medium'\n",
            " 'medium' 'medium' 'least' 'medium high' 'medium high' 'medium'\n",
            " 'medium high' 'medium' 'medium' 'medium high' 'medium high' 'medium'\n",
            " 'medium' 'medium high' 'medium' 'medium high' 'medium high' 'medium high'\n",
            " 'medium' 'medium high' 'medium' 'medium' 'medium high' 'medium'\n",
            " 'medium high' 'medium high' 'medium high' 'medium high' 'medium high'\n",
            " 'least' 'medium' 'medium high' 'medium' 'medium high' 'medium high'\n",
            " 'medium high' 'high' 'medium high' 'medium' 'medium' 'high' 'medium'\n",
            " 'medium high' 'medium high' 'medium high' 'medium high' 'medium'\n",
            " 'medium high' 'medium high' 'medium' 'medium high' 'medium' 'medium high'\n",
            " 'medium high' 'medium' 'medium high' 'medium high' 'medium high'\n",
            " 'medium high' 'medium high' 'medium' 'medium' 'medium high' 'least'\n",
            " 'medium' 'least' 'medium high' 'medium' 'medium' 'medium' 'medium'\n",
            " 'medium' 'medium high' 'medium' 'medium high' 'medium' 'medium'\n",
            " 'medium high' 'medium' 'medium' 'medium' 'medium' 'high' 'high' 'medium'\n",
            " 'medium high' 'medium high' 'medium high' 'medium' 'medium' 'medium'\n",
            " 'medium high' 'medium high' 'medium high' 'medium' 'medium high'\n",
            " 'medium high' 'medium high' 'medium' 'medium' 'medium high' 'medium high'\n",
            " 'medium high' 'medium high' 'medium high' 'medium high' 'medium high'\n",
            " 'medium high' 'medium' 'medium high' 'medium' 'medium' 'medium high'\n",
            " 'high' 'medium high' 'medium high' 'medium high' 'medium high'\n",
            " 'medium high' 'medium high' 'high' 'medium high' 'medium high'\n",
            " 'medium high' 'medium' 'medium high' 'medium' 'medium high' 'medium'\n",
            " 'medium high' 'medium high' 'medium' 'medium high' 'medium' 'medium high'\n",
            " 'medium' 'medium high' 'medium high' 'medium' 'high' 'medium high'\n",
            " 'medium high' 'medium high' 'medium high' 'medium' 'high' 'medium'\n",
            " 'least' 'medium high' 'medium' 'medium' 'medium' 'medium high' 'high'\n",
            " 'medium high' 'medium' 'medium high' 'medium' 'medium high' 'medium high'\n",
            " 'medium' 'medium high' 'medium' 'medium high' 'medium high' 'medium high'\n",
            " 'medium high' 'medium' 'medium high' 'medium high' 'medium high'\n",
            " 'medium high' 'medium' 'medium high' 'medium high' 'medium high'\n",
            " 'medium high' 'medium high' 'medium' 'medium high' 'medium' 'medium high'\n",
            " 'medium' 'medium high' 'medium high' 'medium high' 'medium high'\n",
            " 'medium high' 'medium' 'medium high' 'medium' 'least' 'medium high'\n",
            " 'medium high' 'medium high' 'medium high' 'medium high' 'medium'\n",
            " 'medium high' 'medium' 'medium' 'medium high' 'medium' 'high' 'medium'\n",
            " 'medium high' 'medium high' 'medium' 'medium high' 'high' 'medium high'\n",
            " 'medium high' 'medium high' 'medium high' 'medium' 'medium' 'medium high'\n",
            " 'medium high' 'medium high' 'medium high' 'medium' 'medium' 'least'\n",
            " 'high' 'medium high' 'medium high' 'medium' 'medium high' 'medium' 'high'\n",
            " 'high' 'high' 'medium high' 'medium high' 'medium' 'medium' 'medium high'\n",
            " 'high' 'medium high' 'medium high' 'medium' 'medium' 'medium high'\n",
            " 'medium' 'medium high' 'medium high' 'least' 'medium high' 'medium high'\n",
            " 'medium high' 'medium high' 'least' 'medium' 'medium' 'high' 'medium'\n",
            " 'medium' 'medium' 'medium high' 'medium' 'medium high' 'least' 'medium'\n",
            " 'medium' 'medium high' 'medium' 'high' 'medium high' 'high' 'medium high'\n",
            " 'medium high' 'medium' 'medium high' 'medium high' 'medium high'\n",
            " 'medium high' 'medium' 'medium' 'medium high' 'medium high' 'medium high'\n",
            " 'medium' 'medium' 'medium' 'medium high' 'high' 'medium' 'medium'\n",
            " 'medium high' 'medium high' 'high' 'medium' 'medium' 'medium' 'medium'\n",
            " 'least' 'medium high' 'medium high' 'high' 'medium' 'medium high'\n",
            " 'medium' 'medium high' 'medium' 'medium high' 'least' 'medium high'\n",
            " 'medium' 'medium high' 'medium high' 'medium high' 'medium high'\n",
            " 'medium high' 'medium' 'medium' 'medium high' 'medium high' 'medium'\n",
            " 'medium high' 'medium high' 'medium high' 'least' 'medium high' 'medium'\n",
            " 'medium' 'medium high' 'medium high' 'medium high' 'medium high' 'high'\n",
            " 'medium high' 'high' 'medium high' 'medium high' 'medium high' 'medium'\n",
            " 'medium high' 'medium' 'least' 'medium high' 'medium high' 'medium'\n",
            " 'medium high' 'medium high' 'high' 'medium high' 'medium' 'least'\n",
            " 'medium high' 'medium' 'medium high' 'medium' 'medium' 'medium' 'medium'\n",
            " 'medium high' 'medium' 'medium high' 'medium high' 'high' 'medium' 'high'\n",
            " 'medium' 'medium high' 'medium high' 'medium high' 'medium high' 'medium'\n",
            " 'medium high' 'medium high' 'medium high' 'high' 'medium high' 'medium'\n",
            " 'medium high' 'medium high' 'medium high' 'medium high' 'medium high'\n",
            " 'medium' 'medium high' 'medium high' 'medium' 'medium' 'medium'\n",
            " 'medium high' 'medium high' 'least' 'least' 'medium' 'medium high'\n",
            " 'medium high' 'medium high' 'least' 'medium high' 'medium high'\n",
            " 'medium high' 'medium' 'high' 'medium high' 'medium high' 'medium'\n",
            " 'medium' 'medium high' 'medium' 'medium high' 'medium high' 'medium'\n",
            " 'medium high' 'medium high' 'medium' 'medium high' 'medium' 'least'\n",
            " 'medium' 'medium' 'medium' 'medium high' 'high' 'medium' 'medium high'\n",
            " 'medium' 'medium high' 'medium high' 'medium high' 'medium' 'medium high'\n",
            " 'high' 'medium high' 'medium high' 'medium high' 'medium high' 'least'\n",
            " 'medium' 'medium high' 'medium' 'medium high' 'high' 'medium high'\n",
            " 'medium high' 'high' 'least' 'medium' 'medium high' 'medium' 'medium'\n",
            " 'medium high' 'medium' 'medium' 'medium' 'medium high' 'high' 'medium'\n",
            " 'medium high' 'medium' 'medium high' 'medium' 'medium high' 'high'\n",
            " 'medium high' 'medium' 'medium' 'medium' 'medium high' 'medium high'\n",
            " 'medium high' 'medium high' 'medium high' 'medium high' 'medium high'\n",
            " 'medium' 'medium' 'medium high' 'medium high' 'medium high' 'medium'\n",
            " 'medium high' 'medium high' 'medium high' 'medium high' 'medium high'\n",
            " 'medium high' 'least' 'medium' 'medium high' 'medium high' 'medium high'\n",
            " 'medium high' 'medium high' 'medium high' 'medium high' 'medium high'\n",
            " 'least' 'medium' 'least' 'medium' 'high' 'medium' 'medium high'\n",
            " 'medium high' 'medium' 'medium' 'medium high' 'medium high' 'medium'\n",
            " 'medium high' 'medium high' 'medium high' 'medium' 'high' 'medium high'\n",
            " 'high' 'medium' 'medium high' 'medium' 'medium high' 'high' 'medium'\n",
            " 'medium high' 'medium high' 'medium high' 'medium high' 'medium high'\n",
            " 'medium high' 'medium high' 'medium high' 'medium' 'medium' 'medium high'\n",
            " 'medium high' 'medium' 'medium high' 'medium high' 'high' 'medium high'\n",
            " 'medium' 'medium high' 'medium' 'medium' 'high' 'medium' 'medium high'\n",
            " 'medium high' 'medium high' 'medium high' 'medium' 'medium' 'least'\n",
            " 'medium' 'medium high' 'medium high' 'medium' 'medium high' 'medium high'\n",
            " 'medium high' 'medium high' 'medium' 'high' 'medium high' 'medium'\n",
            " 'medium high' 'medium high' 'medium' 'medium' 'medium high' 'medium'\n",
            " 'medium high' 'medium' 'medium high' 'medium' 'medium high' 'medium'\n",
            " 'medium' 'medium high' 'medium high' 'medium high' 'medium high'\n",
            " 'medium high' 'medium' 'medium high' 'medium high' 'medium high'\n",
            " 'medium high' 'medium high' 'medium' 'medium high' 'high' 'medium high'\n",
            " 'medium high' 'medium' 'high' 'medium' 'high' 'medium high' 'high'\n",
            " 'medium high' 'medium' 'medium high' 'medium high' 'medium high'\n",
            " 'medium high' 'medium high' 'medium high' 'high' 'medium high'\n",
            " 'medium high' 'medium high' 'medium high' 'medium high' 'medium high'\n",
            " 'medium' 'medium' 'medium' 'medium high' 'medium high' 'medium high'\n",
            " 'medium high' 'medium' 'medium' 'medium high' 'medium high' 'medium'\n",
            " 'medium high' 'medium' 'medium high' 'medium' 'medium high' 'medium high'\n",
            " 'medium' 'medium' 'medium high' 'medium high' 'medium high' 'medium high'\n",
            " 'medium' 'medium' 'medium' 'medium high' 'medium' 'least' 'medium high'\n",
            " 'medium' 'medium high' 'medium high' 'medium high' 'medium' 'medium'\n",
            " 'medium high' 'medium high' 'medium' 'medium high' 'medium high'\n",
            " 'medium high' 'medium' 'medium' 'medium' 'medium high' 'medium' 'high'\n",
            " 'medium high' 'medium high' 'medium high' 'medium high' 'medium high'\n",
            " 'medium' 'medium high' 'medium high' 'medium' 'medium high' 'medium high'\n",
            " 'medium high' 'medium' 'medium' 'medium high' 'medium high' 'medium high'\n",
            " 'medium' 'high' 'medium high' 'medium high' 'medium high' 'medium high'\n",
            " 'medium' 'medium high' 'medium' 'high' 'least' 'medium high' 'medium'\n",
            " 'medium high' 'medium high' 'medium high' 'medium high' 'medium high'\n",
            " 'medium high' 'medium high' 'medium high' 'medium high' 'medium high'\n",
            " 'medium high' 'medium high' 'medium high' 'medium high' 'medium' 'medium'\n",
            " 'medium' 'medium' 'medium' 'medium' 'medium' 'medium high' 'medium'\n",
            " 'medium' 'medium high' 'medium high' 'medium high' 'medium high'\n",
            " 'medium high' 'medium' 'medium high' 'medium high' 'medium high'\n",
            " 'medium high' 'medium high' 'least' 'high' 'medium high' 'medium' 'high'\n",
            " 'medium high' 'medium high' 'medium high' 'medium high' 'medium high']\n"
          ],
          "name": "stdout"
        }
      ]
    },
    {
      "cell_type": "code",
      "metadata": {
        "colab": {
          "base_uri": "https://localhost:8080/"
        },
        "id": "2xBKg71w0iGf",
        "outputId": "79d66e72-b920-4245-ab36-b477b3b3426f"
      },
      "source": [
        "accuracy_score(Y_test, Y_predict)"
      ],
      "execution_count": 132,
      "outputs": [
        {
          "output_type": "execute_result",
          "data": {
            "text/plain": [
              "1.0"
            ]
          },
          "metadata": {
            "tags": []
          },
          "execution_count": 132
        }
      ]
    },
    {
      "cell_type": "code",
      "metadata": {
        "colab": {
          "base_uri": "https://localhost:8080/"
        },
        "id": "hip9mD5i0meq",
        "outputId": "a767edc7-a72f-4ecc-a6ed-9c79ddcf500e"
      },
      "source": [
        "confusematr=confusion_matrix(Y_test, Y_predict)\n",
        "confusematr"
      ],
      "execution_count": 133,
      "outputs": [
        {
          "output_type": "execute_result",
          "data": {
            "text/plain": [
              "array([[ 56,   0,   0,   0],\n",
              "       [  0,  28,   0,   0],\n",
              "       [  0,   0, 263,   0],\n",
              "       [  0,   0,   0, 461]])"
            ]
          },
          "metadata": {
            "tags": []
          },
          "execution_count": 133
        }
      ]
    },
    {
      "cell_type": "code",
      "metadata": {
        "colab": {
          "base_uri": "https://localhost:8080/"
        },
        "id": "QEeRvoUW0rAr",
        "outputId": "c3736d41-40c6-49bc-f3dc-f2494dceaf30"
      },
      "source": [
        "!pip install mlxtend --upgrade --no-deps"
      ],
      "execution_count": 134,
      "outputs": [
        {
          "output_type": "stream",
          "text": [
            "Requirement already up-to-date: mlxtend in /usr/local/lib/python3.7/dist-packages (0.18.0)\n"
          ],
          "name": "stdout"
        }
      ]
    },
    {
      "cell_type": "code",
      "metadata": {
        "colab": {
          "base_uri": "https://localhost:8080/",
          "height": 361
        },
        "id": "8uGMYiHo0vLR",
        "outputId": "76ad6175-0642-46f4-9267-28e844f63c46"
      },
      "source": [
        "plot_confusion_matrix(conf_mat=confusematr, colorbar=True, show_absolute=True, show_normed=True, class_names=classLabels)"
      ],
      "execution_count": 135,
      "outputs": [
        {
          "output_type": "execute_result",
          "data": {
            "text/plain": [
              "(<Figure size 432x288 with 2 Axes>,\n",
              " <matplotlib.axes._subplots.AxesSubplot at 0x7f58a5830110>)"
            ]
          },
          "metadata": {
            "tags": []
          },
          "execution_count": 135
        },
        {
          "output_type": "display_data",
          "data": {
            "image/png": "[encoded data removed]",
            "text/plain": [
              "<Figure size 432x288 with 2 Axes>"
            ]
          },
          "metadata": {
            "tags": [],
            "needs_background": "light"
          }
        }
      ]
    },
    {
      "cell_type": "code",
      "metadata": {
        "colab": {
          "base_uri": "https://localhost:8080/"
        },
        "id": "6WGX3Pmy03lj",
        "outputId": "a293d68d-ff0c-4dd9-ad13-a0fe60f38104"
      },
      "source": [
        "clf_report=classification_report(Y_test, Y_predict, target_names=classLabels, digits=5, output_dict=True)\n",
        "print(clf_report)"
      ],
      "execution_count": 136,
      "outputs": [
        {
          "output_type": "stream",
          "text": [
            "{'high': {'precision': 1.0, 'recall': 1.0, 'f1-score': 1.0, 'support': 56}, 'least': {'precision': 1.0, 'recall': 1.0, 'f1-score': 1.0, 'support': 28}, 'medium': {'precision': 1.0, 'recall': 1.0, 'f1-score': 1.0, 'support': 263}, 'medium high': {'precision': 1.0, 'recall': 1.0, 'f1-score': 1.0, 'support': 461}, 'accuracy': 1.0, 'macro avg': {'precision': 1.0, 'recall': 1.0, 'f1-score': 1.0, 'support': 808}, 'weighted avg': {'precision': 1.0, 'recall': 1.0, 'f1-score': 1.0, 'support': 808}}\n"
          ],
          "name": "stdout"
        }
      ]
    },
    {
      "cell_type": "code",
      "metadata": {
        "colab": {
          "base_uri": "https://localhost:8080/",
          "height": 284
        },
        "id": "nhPzFHwz078K",
        "outputId": "d977b730-6806-4474-d484-838c7836533a"
      },
      "source": [
        "sns.heatmap(pd.DataFrame(clf_report).T, annot=True, fmt='.3g',center=True)"
      ],
      "execution_count": 137,
      "outputs": [
        {
          "output_type": "execute_result",
          "data": {
            "text/plain": [
              "<matplotlib.axes._subplots.AxesSubplot at 0x7f5897f336d0>"
            ]
          },
          "metadata": {
            "tags": []
          },
          "execution_count": 137
        },
        {
          "output_type": "display_data",
          "data": {
            "image/png": "[encoded data removed]",
            "text/plain": [
              "<Figure size 432x288 with 2 Axes>"
            ]
          },
          "metadata": {
            "tags": [],
            "needs_background": "light"
          }
        }
      ]
    },
    {
      "cell_type": "code",
      "metadata": {
        "colab": {
          "base_uri": "https://localhost:8080/"
        },
        "id": "9lQGpz141K_u",
        "outputId": "6e436d28-49ca-431b-dd4b-146255bd9bf0"
      },
      "source": [
        "numTimes=10\n",
        "\n",
        "accuracy=list()\n",
        "for i in range(numTimes):\n",
        "  X_train, X_test, Y_train, Y_test = train_test_split(X,Y,test_size=test_val)\n",
        "  DTclassifer = DecisionTreeClassifier(criterion=\"entropy\").fit(X_train,Y_train)\n",
        "  Y_predict=DTclassifer.predict(X_test)\n",
        "  accuracy.append(accuracy_score(Y_test, Y_predict))\n",
        "print(sum(accuracy)/numTimes)"
      ],
      "execution_count": 138,
      "outputs": [
        {
          "output_type": "stream",
          "text": [
            "0.9995049504950495\n"
          ],
          "name": "stdout"
        }
      ]
    },
    {
      "cell_type": "code",
      "metadata": {
        "colab": {
          "base_uri": "https://localhost:8080/"
        },
        "id": "tDb7Y33S1OpX",
        "outputId": "9f912339-85ab-48ba-bcf2-b2657b749116"
      },
      "source": [
        "k=10\n",
        "scores=cross_val_score(DecisionTreeClassifier(),X,Y,cv=k)\n",
        "print(scores,scores.mean())"
      ],
      "execution_count": 139,
      "outputs": [
        {
          "output_type": "stream",
          "text": [
            "[1.         1.         1.         1.         1.         1.\n",
            " 1.         0.99690402 0.99690402 1.        ] 0.9993808049535604\n"
          ],
          "name": "stdout"
        }
      ]
    },
    {
      "cell_type": "markdown",
      "metadata": {
        "id": "oa_iWt3p16xG"
      },
      "source": [
        "COMPARING ACCURACY IN CASE OF DECISION TREE,K-NEAREST NEIGHBORS AND NAIVE BAYES USING HOLDOUT METHOD"
      ]
    },
    {
      "cell_type": "code",
      "metadata": {
        "colab": {
          "base_uri": "https://localhost:8080/"
        },
        "id": "nffiBg4c17IS",
        "outputId": "00a7971d-5ac1-459c-9575-937ff8ab79ff"
      },
      "source": [
        "def ccompareClassifiers(split_ratio):\n",
        "  X_train, X_test, Y_train, Y_test = train_test_split(X,Y,test_size=split_ratio)\n",
        "  clf = DecisionTreeClassifier(criterion='gini')\n",
        "  clf=clf.fit(X_train,Y_train)\n",
        "  Y_pred=clf.predict(X_test)\n",
        "  a1=accuracy_score(Y_test,Y_pred)\n",
        "  print(\"Accuracy in decision tree base classifier:\")\n",
        "  print(a1)\n",
        "  print(\"confusion matrix is:\")\n",
        "  confuss_mat=confusion_matrix(Y_test,Y_pred)\n",
        "  print(confuss_mat)\n",
        "  print(\"classification report:\")\n",
        "  clf_report=classification_report(Y_test, Y_pred, target_names=classLabels,digits=4,output_dict=True)\n",
        "  print(clf_report)\n",
        "  #KNN\n",
        "  X_train, X_test, Y_train, Y_test = train_test_split(X,Y,test_size=split_ratio)\n",
        "  clf = KNeighborsClassifier(n_neighbors=4)\n",
        "  clf=clf.fit(X_train,Y_train)\n",
        "  Y_pred=clf.predict(X_test)\n",
        "  a2=accuracy_score(Y_test,Y_pred)\n",
        "  print(\"Accuracy in KNN base classifier:\")\n",
        "  print(a2)\n",
        "  print(\"confusion matrix is:\")\n",
        "  confuss_mat=confusion_matrix(Y_test,Y_pred)\n",
        "  print(confuss_mat)\n",
        "  print(\"classification report:\")\n",
        "  clf_report=classification_report(Y_test, Y_pred, target_names=classLabels,digits=4,output_dict=True)\n",
        "  print(clf_report)\n",
        "  #naive bayes\n",
        "  X_train, X_test, Y_train, Y_test = train_test_split(X,Y,test_size=split_ratio)\n",
        "  clf = GaussianNB()\n",
        "  clf=clf.fit(X_train,Y_train)\n",
        "  Y_pred=clf.predict(X_test)\n",
        "  a3=accuracy_score(Y_test,Y_pred)\n",
        "  print(\"Accuracy in naive bayes base classifier:\")\n",
        "  print(a1)\n",
        "  print(\"confusion matrix is:\")\n",
        "  confuss_mat=confusion_matrix(Y_test,Y_pred)\n",
        "  print(confuss_mat)\n",
        "  print(\"classification report:\")\n",
        "  clf_report=classification_report(Y_test, Y_pred, target_names=classLabels,digits=4,output_dict=True)\n",
        "  print(clf_report)\n",
        "  return a1,a2,a3\n",
        "a=ccompareClassifiers(0.33)"
      ],
      "execution_count": 140,
      "outputs": [
        {
          "output_type": "stream",
          "text": [
            "Accuracy in decision tree base classifier:\n",
            "0.9990627928772259\n",
            "confusion matrix is:\n",
            "[[ 81   0   0   0]\n",
            " [  0  37   0   0]\n",
            " [  0   0 352   0]\n",
            " [  0   0   1 596]]\n",
            "classification report:\n",
            "{'high': {'precision': 1.0, 'recall': 1.0, 'f1-score': 1.0, 'support': 81}, 'least': {'precision': 1.0, 'recall': 1.0, 'f1-score': 1.0, 'support': 37}, 'medium': {'precision': 0.9971671388101983, 'recall': 1.0, 'f1-score': 0.9985815602836879, 'support': 352}, 'medium high': {'precision': 1.0, 'recall': 0.998324958123953, 'f1-score': 0.9991617770326907, 'support': 597}, 'accuracy': 0.9990627928772259, 'macro avg': {'precision': 0.9992917847025495, 'recall': 0.9995812395309882, 'f1-score': 0.9994358343290947, 'support': 1067}, 'weighted avg': {'precision': 0.9990654478549107, 'recall': 0.9990627928772259, 'f1-score': 0.9990630647688608, 'support': 1067}}\n",
            "Accuracy in KNN base classifier:\n",
            "0.8397375820056232\n",
            "confusion matrix is:\n",
            "[[ 58   0   0  26]\n",
            " [  0  24   6   0]\n",
            " [  0  13 302  47]\n",
            " [ 16   0  63 512]]\n",
            "classification report:\n",
            "{'high': {'precision': 0.7837837837837838, 'recall': 0.6904761904761905, 'f1-score': 0.7341772151898734, 'support': 84}, 'least': {'precision': 0.6486486486486487, 'recall': 0.8, 'f1-score': 0.7164179104477612, 'support': 30}, 'medium': {'precision': 0.8140161725067385, 'recall': 0.8342541436464088, 'f1-score': 0.8240109140518417, 'support': 362}, 'medium high': {'precision': 0.8752136752136752, 'recall': 0.8663282571912013, 'f1-score': 0.8707482993197279, 'support': 591}, 'accuracy': 0.8397375820056232, 'macro avg': {'precision': 0.7804155700382115, 'recall': 0.7977646478284502, 'f1-score': 0.786338584752301, 'support': 1067}, 'weighted avg': {'precision': 0.8408832556663718, 'recall': 0.8397375820056232, 'f1-score': 0.8398009551772335, 'support': 1067}}\n",
            "Accuracy in naive bayes base classifier:\n",
            "0.9990627928772259\n",
            "confusion matrix is:\n",
            "[[ 67   1   0   7]\n",
            " [  0  33   0   0]\n",
            " [  0  15 267  73]\n",
            " [ 29   0  38 537]]\n",
            "classification report:\n",
            "{'high': {'precision': 0.6979166666666666, 'recall': 0.8933333333333333, 'f1-score': 0.783625730994152, 'support': 75}, 'least': {'precision': 0.673469387755102, 'recall': 1.0, 'f1-score': 0.8048780487804877, 'support': 33}, 'medium': {'precision': 0.8754098360655738, 'recall': 0.752112676056338, 'f1-score': 0.8090909090909091, 'support': 355}, 'medium high': {'precision': 0.8703403565640194, 'recall': 0.8890728476821192, 'f1-score': 0.8796068796068797, 'support': 604}, 'accuracy': 0.8472352389878163, 'macro avg': {'precision': 0.7792840617628404, 'recall': 0.8836297142679477, 'f1-score': 0.8193003921181071, 'support': 1067}, 'weighted avg': {'precision': 0.8538184695069023, 'recall': 0.8472352389878163, 'f1-score': 0.8470878476514954, 'support': 1067}}\n"
          ],
          "name": "stdout"
        }
      ]
    },
    {
      "cell_type": "code",
      "metadata": {
        "colab": {
          "base_uri": "https://localhost:8080/"
        },
        "id": "xuyhecq12JGE",
        "outputId": "644a6784-f6cc-4515-9af3-b827474aab53"
      },
      "source": [
        "a"
      ],
      "execution_count": 141,
      "outputs": [
        {
          "output_type": "execute_result",
          "data": {
            "text/plain": [
              "(0.9990627928772259, 0.8397375820056232, 0.8472352389878163)"
            ]
          },
          "metadata": {
            "tags": []
          },
          "execution_count": 141
        }
      ]
    },
    {
      "cell_type": "code",
      "metadata": {
        "colab": {
          "base_uri": "https://localhost:8080/",
          "height": 265
        },
        "id": "COk4_9bi2KYo",
        "outputId": "7581e75d-e60b-4df3-aaf7-e97eacdf9bcd"
      },
      "source": [
        "l = ['DT', 'KNN', 'NB']\n",
        "barlist=plt.bar(l,a)\n",
        "barlist[0].set_color('r')\n",
        "barlist[1].set_color('b')\n",
        "barlist[2].set_color('g')\n",
        "plt.show()"
      ],
      "execution_count": 142,
      "outputs": [
        {
          "output_type": "display_data",
          "data": {
            "image/png": "[encoded data removed]",
            "text/plain": [
              "<Figure size 432x288 with 1 Axes>"
            ]
          },
          "metadata": {
            "tags": [],
            "needs_background": "light"
          }
        }
      ]
    },
    {
      "cell_type": "markdown",
      "metadata": {
        "id": "z8DafTkk2RtL"
      },
      "source": [
        "COMPARING ACCURACY IN CASE OF DECISION TREE,K-NEAREST NEIGHBORS AND NAIVE BAYES USING K-FOLD METHOD"
      ]
    },
    {
      "cell_type": "code",
      "metadata": {
        "colab": {
          "base_uri": "https://localhost:8080/"
        },
        "id": "5x_paJcD2Soh",
        "outputId": "d578c422-7fdd-4c27-c5fa-6059d24b4574"
      },
      "source": [
        "k=10  \n",
        "def ccompareClassifiers(k):\n",
        "  score=cross_val_score(DecisionTreeClassifier(),X,Y,cv=k)\n",
        "  print(\" K fold cross verlidation for Decision tree: \")\n",
        "  print(score)\n",
        "  s1=score.mean()\n",
        "  print(s1)\n",
        "  score=cross_val_score( KNeighborsClassifier(),X,Y,cv=k)\n",
        "  print(\" K fold cross verlidation for k-nearest neighbors: \")\n",
        "  print(score)\n",
        "  s2=score.mean()\n",
        "  print(s2)\n",
        "  score=cross_val_score( GaussianNB(),X,Y,cv=k)\n",
        "  print(\" K fold cross verlidation for naive bayes: \")\n",
        "  print(score)\n",
        "  s3=score.mean()\n",
        "  print(s3)\n",
        "  return s1,s2,s3\n",
        "s=ccompareClassifiers(12)  "
      ],
      "execution_count": 143,
      "outputs": [
        {
          "output_type": "stream",
          "text": [
            " K fold cross verlidation for Decision tree: \n",
            "[1.         1.         1.         1.         1.         1.\n",
            " 1.         1.         0.99628253 1.         0.99628253 1.        ]\n",
            "0.9993804213135068\n",
            " K fold cross verlidation for k-nearest neighbors: \n",
            "[0.86666667 0.83333333 0.88148148 0.8401487  0.84386617 0.82899628\n",
            " 0.84386617 0.80297398 0.82156134 0.84758364 0.89219331 0.86245353]\n",
            "0.8470937170131717\n",
            " K fold cross verlidation for naive bayes: \n",
            "[0.88148148 0.84444444 0.85555556 0.85873606 0.85130112 0.87732342\n",
            " 0.86988848 0.81784387 0.86988848 0.86988848 0.85501859 0.86988848]\n",
            "0.8601048694295287\n"
          ],
          "name": "stdout"
        }
      ]
    },
    {
      "cell_type": "code",
      "metadata": {
        "colab": {
          "base_uri": "https://localhost:8080/"
        },
        "id": "rrBt1Onq2ctd",
        "outputId": "0d7e5c45-fa13-48e9-92eb-2fefa8d6aed5"
      },
      "source": [
        "s"
      ],
      "execution_count": 144,
      "outputs": [
        {
          "output_type": "execute_result",
          "data": {
            "text/plain": [
              "(0.9993804213135068, 0.8470937170131717, 0.8601048694295287)"
            ]
          },
          "metadata": {
            "tags": []
          },
          "execution_count": 144
        }
      ]
    },
    {
      "cell_type": "code",
      "metadata": {
        "colab": {
          "base_uri": "https://localhost:8080/",
          "height": 265
        },
        "id": "dvxKxRO-2fP8",
        "outputId": "3570fb93-0300-43a7-afd0-ef6532363491"
      },
      "source": [
        "l = ['DT', 'KNN', 'NB']\n",
        "barlist=plt.bar(l,s)\n",
        "barlist[0].set_color('r')\n",
        "barlist[1].set_color('b')\n",
        "barlist[2].set_color('g')\n",
        "plt.show()"
      ],
      "execution_count": 145,
      "outputs": [
        {
          "output_type": "display_data",
          "data": {
            "image/png": "[encoded data removed]",
            "text/plain": [
              "<Figure size 432x288 with 1 Axes>"
            ]
          },
          "metadata": {
            "tags": [],
            "needs_background": "light"
          }
        }
      ]
    },
    {
      "cell_type": "markdown",
      "metadata": {
        "id": "vpR5Dc3w7HsT"
      },
      "source": [
        "CONCLUSION:\n",
        "\n",
        "Percentage of Genre danceabiltiy"
      ]
    },
    {
      "cell_type": "code",
      "metadata": {
        "colab": {
          "base_uri": "https://localhost:8080/"
        },
        "id": "YH0lXPi57mqx",
        "outputId": "69000725-b608-438a-b285-3aa960f3b71f"
      },
      "source": [
        "df['danceable'].value_counts(normalize=True) * 100"
      ],
      "execution_count": 148,
      "outputs": [
        {
          "output_type": "execute_result",
          "data": {
            "text/plain": [
              "medium high    56.515011\n",
              "medium         32.404828\n",
              "high            7.520891\n",
              "least           3.559270\n",
              "Name: danceable, dtype: float64"
            ]
          },
          "metadata": {
            "tags": []
          },
          "execution_count": 148
        }
      ]
    },
    {
      "cell_type": "code",
      "metadata": {
        "colab": {
          "base_uri": "https://localhost:8080/",
          "height": 282
        },
        "id": "iIsg6d1Y8cBO",
        "outputId": "fb5f866b-6aec-4016-f961-01b429956d6d"
      },
      "source": [
        "df['danceable'].hist()"
      ],
      "execution_count": 149,
      "outputs": [
        {
          "output_type": "execute_result",
          "data": {
            "text/plain": [
              "<matplotlib.axes._subplots.AxesSubplot at 0x7f5897e7d350>"
            ]
          },
          "metadata": {
            "tags": []
          },
          "execution_count": 149
        },
        {
          "output_type": "display_data",
          "data": {
            "image/png": "[encoded data removed]",
            "text/plain": [
              "<Figure size 432x288 with 1 Axes>"
            ]
          },
          "metadata": {
            "tags": [],
            "needs_background": "light"
          }
        }
      ]
    }
  ]
}